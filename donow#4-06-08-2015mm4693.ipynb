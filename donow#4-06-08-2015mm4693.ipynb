{
 "cells": [
  {
   "cell_type": "markdown",
   "metadata": {},
   "source": [
    "#do now #4 06-08-2015: Reviewing: dictionary, lists, CSVs"
   ]
  },
  {
   "cell_type": "markdown",
   "metadata": {},
   "source": [
    "###1) print the third element of a list called `dogs`"
   ]
  },
  {
   "cell_type": "code",
   "execution_count": 1,
   "metadata": {
    "collapsed": true
   },
   "outputs": [],
   "source": [
    "dogs = [\"Lincoln\", \"Lee\", \"Sherman\"]"
   ]
  },
  {
   "cell_type": "code",
   "execution_count": 2,
   "metadata": {
    "collapsed": false
   },
   "outputs": [
    {
     "name": "stdout",
     "output_type": "stream",
     "text": [
      "Sherman\n"
     ]
    }
   ],
   "source": [
    "print dogs[2]"
   ]
  },
  {
   "cell_type": "markdown",
   "metadata": {},
   "source": [
    "##-- a list always starts with 0, so the first element of a list has the position 0"
   ]
  },
  {
   "cell_type": "markdown",
   "metadata": {},
   "source": [
    "###2) whats the output of the following code?"
   ]
  },
  {
   "cell_type": "code",
   "execution_count": 4,
   "metadata": {
    "collapsed": true
   },
   "outputs": [],
   "source": [
    "numbers = [1,2,3,4]"
   ]
  },
  {
   "cell_type": "code",
   "execution_count": 5,
   "metadata": {
    "collapsed": true
   },
   "outputs": [],
   "source": [
    "colors = [\"green\", \"blue\"]"
   ]
  },
  {
   "cell_type": "code",
   "execution_count": 6,
   "metadata": {
    "collapsed": false
   },
   "outputs": [
    {
     "name": "stdout",
     "output_type": "stream",
     "text": [
      "1 green\n",
      "2 green\n",
      "3 green\n",
      "4 green\n",
      "1 blue\n",
      "2 blue\n",
      "3 blue\n",
      "4 blue\n"
     ]
    }
   ],
   "source": [
    "for color in colors:\n",
    "    for number in numbers:\n",
    "        print number, color"
   ]
  },
  {
   "cell_type": "markdown",
   "metadata": {},
   "source": [
    "-- the second loop is a subloop."
   ]
  },
  {
   "cell_type": "markdown",
   "metadata": {},
   "source": [
    "###3) what command would you use to get the first 100 lines of  `data.csv`? and save it into a new file named `sample.csv`?"
   ]
  },
  {
   "cell_type": "markdown",
   "metadata": {},
   "source": [
    "it's the command head -100 data.csv in the terminal-app."
   ]
  },
  {
   "cell_type": "markdown",
   "metadata": {},
   "source": [
    "###3) what is missing from the lines below? "
   ]
  },
  {
   "cell_type": "code",
   "execution_count": 2,
   "metadata": {
    "collapsed": false
   },
   "outputs": [],
   "source": [
    "import csv\n",
    "file = open(\"/Users/Michael_Marti/desktop/lede/lists.csv\")"
   ]
  },
  {
   "cell_type": "code",
   "execution_count": 3,
   "metadata": {
    "collapsed": false
   },
   "outputs": [
    {
     "name": "stdout",
     "output_type": "stream",
     "text": [
      "[{'color': 'black', 'make': 'Chevrolet', 'year': '2011'}, {'color': 'red', 'make': 'Honda', 'year': '2010'}, {'color': 'black', 'make': 'Honda', 'year': '2013'}, {'color': 'gold', 'make': 'Toyota', 'year': '2001'}]\n"
     ]
    }
   ],
   "source": [
    "cars = list(csv.DictReader(file))\n",
    "print cars"
   ]
  },
  {
   "cell_type": "markdown",
   "metadata": {},
   "source": [
    "##better is: cars = list(csv.DictReader(file)"
   ]
  },
  {
   "cell_type": "markdown",
   "metadata": {},
   "source": [
    "see also: https://docs.python.org/2/library/csv.html"
   ]
  },
  {
   "cell_type": "markdown",
   "metadata": {},
   "source": [
    "##5) write a `for` loop to add up all of the years. save it to the variable called `total`."
   ]
  },
  {
   "cell_type": "markdown",
   "metadata": {
    "collapsed": false
   },
   "source": [
    "so greifen wir auf die elemente einer spalte zu (wir entnehmen sie als liste einem\n",
    "\t#dictionary.)"
   ]
  },
  {
   "cell_type": "code",
   "execution_count": 4,
   "metadata": {
    "collapsed": false
   },
   "outputs": [
    {
     "name": "stdout",
     "output_type": "stream",
     "text": [
      "8035\n"
     ]
    }
   ],
   "source": [
    "years = []\n",
    "for car in cars:\n",
    "\tyears.append(car[\"year\"])\n",
    "years = map(int, years)\n",
    "print sum(years)"
   ]
  },
  {
   "cell_type": "markdown",
   "metadata": {},
   "source": [
    "##!!! years = map(int, years) -> line konverts years string in years inter"
   ]
  },
  {
   "cell_type": "markdown",
   "metadata": {},
   "source": [
    "##6) write a new list called `favorites` that includes all cars that are `black`  or  `produced` after `2010`. write a `for` loop in order to create this list. "
   ]
  },
  {
   "cell_type": "code",
   "execution_count": 9,
   "metadata": {
    "collapsed": false,
    "scrolled": true
   },
   "outputs": [
    {
     "name": "stdout",
     "output_type": "stream",
     "text": [
      "[{'color': 'black', 'make': 'Chevrolet', 'year': '2011'}, {'color': 'red', 'make': 'Honda', 'year': '2010'}, {'color': 'black', 'make': 'Honda', 'year': '2013'}]\n"
     ]
    }
   ],
   "source": [
    "favorites_cars = []\n",
    "for car in cars:\n",
    "    if car[\"color\"] == \"black\" or int(car[\"year\"]) >= 2010:\n",
    "        favorites_cars.append(car)\n",
    "print favorites_cars\n",
    "        \n",
    "\n",
    "    "
   ]
  },
  {
   "cell_type": "code",
   "execution_count": null,
   "metadata": {
    "collapsed": true
   },
   "outputs": [],
   "source": []
  },
  {
   "cell_type": "code",
   "execution_count": null,
   "metadata": {
    "collapsed": true
   },
   "outputs": [],
   "source": []
  },
  {
   "cell_type": "code",
   "execution_count": null,
   "metadata": {
    "collapsed": true
   },
   "outputs": [],
   "source": []
  }
 ],
 "metadata": {
  "kernelspec": {
   "display_name": "Python 2",
   "language": "python",
   "name": "python2"
  },
  "language_info": {
   "codemirror_mode": {
    "name": "ipython",
    "version": 2
   },
   "file_extension": ".py",
   "mimetype": "text/x-python",
   "name": "python",
   "nbconvert_exporter": "python",
   "pygments_lexer": "ipython2",
   "version": "2.7.9"
  }
 },
 "nbformat": 4,
 "nbformat_minor": 0
}
